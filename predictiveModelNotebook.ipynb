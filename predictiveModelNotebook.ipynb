{
 "cells": [
  {
   "cell_type": "markdown",
   "metadata": {},
   "source": [
    "![alt text](logo.png \"Title\")\n",
    "<center> <h1> Data Science Technical Test <h1></center>"
   ]
  },
  {
   "cell_type": "markdown",
   "metadata": {},
   "source": [
    "## Instructions\n",
    "This assessment intends to evaluate your technical skills. The task has intentionally been\n",
    "designed to be somewhat open ended to allow you to be propositive.\n",
    "The dataset that must be used for this evaluation is found in the document attached. You\n",
    "must address the requirements described in the deliverable description. You will also have to\n",
    "present your work in a meeting"
   ]
  },
  {
   "cell_type": "markdown",
   "metadata": {},
   "source": [
    "### Data extraction"
   ]
  },
  {
   "cell_type": "code",
   "execution_count": 1,
   "metadata": {},
   "outputs": [],
   "source": [
    "import pandas as pd"
   ]
  },
  {
   "cell_type": "code",
   "execution_count": 15,
   "metadata": {},
   "outputs": [],
   "source": [
    "df = pd.read_csv('Dataset for data_scientist test.txt', delimiter = \",\")"
   ]
  },
  {
   "cell_type": "code",
   "execution_count": 16,
   "metadata": {},
   "outputs": [
    {
     "data": {
      "text/html": [
       "<div>\n",
       "<style scoped>\n",
       "    .dataframe tbody tr th:only-of-type {\n",
       "        vertical-align: middle;\n",
       "    }\n",
       "\n",
       "    .dataframe tbody tr th {\n",
       "        vertical-align: top;\n",
       "    }\n",
       "\n",
       "    .dataframe thead th {\n",
       "        text-align: right;\n",
       "    }\n",
       "</style>\n",
       "<table border=\"1\" class=\"dataframe\">\n",
       "  <thead>\n",
       "    <tr style=\"text-align: right;\">\n",
       "      <th></th>\n",
       "      <th>key_1</th>\n",
       "      <th>date_2</th>\n",
       "      <th>cont_3</th>\n",
       "      <th>cont_4</th>\n",
       "      <th>disc_5</th>\n",
       "      <th>disc_6</th>\n",
       "      <th>cat_7</th>\n",
       "      <th>cat_8</th>\n",
       "      <th>cont_9</th>\n",
       "      <th>cont_10</th>\n",
       "      <th>label</th>\n",
       "    </tr>\n",
       "  </thead>\n",
       "  <tbody>\n",
       "    <tr>\n",
       "      <th>0</th>\n",
       "      <td>na</td>\n",
       "      <td>2003-04-06</td>\n",
       "      <td>-0.90</td>\n",
       "      <td>-3.82</td>\n",
       "      <td>1</td>\n",
       "      <td>19</td>\n",
       "      <td>happy</td>\n",
       "      <td>blue</td>\n",
       "      <td>0.37</td>\n",
       "      <td>3.92</td>\n",
       "      <td>2.5</td>\n",
       "    </tr>\n",
       "    <tr>\n",
       "      <th>1</th>\n",
       "      <td>UV7055</td>\n",
       "      <td>2013-08-22</td>\n",
       "      <td>-0.35</td>\n",
       "      <td>2.23</td>\n",
       "      <td>5</td>\n",
       "      <td>13</td>\n",
       "      <td>surprised</td>\n",
       "      <td>green</td>\n",
       "      <td>0.05</td>\n",
       "      <td>0.60</td>\n",
       "      <td>3.19</td>\n",
       "    </tr>\n",
       "    <tr>\n",
       "      <th>2</th>\n",
       "      <td>oM1806</td>\n",
       "      <td>2002-10-10</td>\n",
       "      <td>0.93</td>\n",
       "      <td>-12.12</td>\n",
       "      <td>2</td>\n",
       "      <td>11</td>\n",
       "      <td>happy</td>\n",
       "      <td>green</td>\n",
       "      <td>0.08</td>\n",
       "      <td>0.75</td>\n",
       "      <td>2.33</td>\n",
       "    </tr>\n",
       "    <tr>\n",
       "      <th>3</th>\n",
       "      <td>YJ8175</td>\n",
       "      <td>2015-01-01</td>\n",
       "      <td>1.23</td>\n",
       "      <td>-7.21</td>\n",
       "      <td>1</td>\n",
       "      <td>14</td>\n",
       "      <td>scared</td>\n",
       "      <td>purple</td>\n",
       "      <td>-0.69</td>\n",
       "      <td>-7.24</td>\n",
       "      <td>2.54</td>\n",
       "    </tr>\n",
       "    <tr>\n",
       "      <th>4</th>\n",
       "      <td>VF7543</td>\n",
       "      <td>2014-03-03</td>\n",
       "      <td>-1.87</td>\n",
       "      <td>-9.02</td>\n",
       "      <td>3</td>\n",
       "      <td>9</td>\n",
       "      <td>happy</td>\n",
       "      <td>blue</td>\n",
       "      <td>1.01</td>\n",
       "      <td>11.16</td>\n",
       "      <td>2.1</td>\n",
       "    </tr>\n",
       "  </tbody>\n",
       "</table>\n",
       "</div>"
      ],
      "text/plain": [
       "    key_1      date_2  cont_3  cont_4  disc_5 disc_6      cat_7   cat_8  \\\n",
       "0      na  2003-04-06   -0.90   -3.82       1     19      happy    blue   \n",
       "1  UV7055  2013-08-22   -0.35    2.23       5     13  surprised   green   \n",
       "2  oM1806  2002-10-10    0.93  -12.12       2     11      happy   green   \n",
       "3  YJ8175  2015-01-01    1.23   -7.21       1     14     scared  purple   \n",
       "4  VF7543  2014-03-03   -1.87   -9.02       3      9      happy    blue   \n",
       "\n",
       "   cont_9  cont_10 label  \n",
       "0    0.37     3.92   2.5  \n",
       "1    0.05     0.60  3.19  \n",
       "2    0.08     0.75  2.33  \n",
       "3   -0.69    -7.24  2.54  \n",
       "4    1.01    11.16   2.1  "
      ]
     },
     "execution_count": 16,
     "metadata": {},
     "output_type": "execute_result"
    }
   ],
   "source": [
    "df.head()"
   ]
  },
  {
   "cell_type": "code",
   "execution_count": 27,
   "metadata": {},
   "outputs": [
    {
     "data": {
      "text/html": [
       "<div>\n",
       "<style scoped>\n",
       "    .dataframe tbody tr th:only-of-type {\n",
       "        vertical-align: middle;\n",
       "    }\n",
       "\n",
       "    .dataframe tbody tr th {\n",
       "        vertical-align: top;\n",
       "    }\n",
       "\n",
       "    .dataframe thead th {\n",
       "        text-align: right;\n",
       "    }\n",
       "</style>\n",
       "<table border=\"1\" class=\"dataframe\">\n",
       "  <thead>\n",
       "    <tr style=\"text-align: right;\">\n",
       "      <th></th>\n",
       "      <th>key_1</th>\n",
       "      <th>date_2</th>\n",
       "      <th>cont_3</th>\n",
       "      <th>cont_4</th>\n",
       "      <th>disc_5</th>\n",
       "      <th>disc_6</th>\n",
       "      <th>cat_7</th>\n",
       "      <th>cat_8</th>\n",
       "      <th>cont_9</th>\n",
       "      <th>cont_10</th>\n",
       "      <th>label</th>\n",
       "    </tr>\n",
       "  </thead>\n",
       "  <tbody>\n",
       "    <tr>\n",
       "      <th>min</th>\n",
       "      <td>AD3812</td>\n",
       "      <td>2000-01-03</td>\n",
       "      <td>-3.22</td>\n",
       "      <td>-31.75</td>\n",
       "      <td>0</td>\n",
       "      <td>0</td>\n",
       "      <td>happy</td>\n",
       "      <td>blue</td>\n",
       "      <td>-2.99</td>\n",
       "      <td>-35.35</td>\n",
       "      <td>0.99</td>\n",
       "    </tr>\n",
       "    <tr>\n",
       "      <th>max</th>\n",
       "      <td>zq5501</td>\n",
       "      <td>2020-12-31</td>\n",
       "      <td>3.32</td>\n",
       "      <td>33.77</td>\n",
       "      <td>5</td>\n",
       "      <td>na</td>\n",
       "      <td>surprised</td>\n",
       "      <td>yellow</td>\n",
       "      <td>3.00</td>\n",
       "      <td>35.20</td>\n",
       "      <td>na</td>\n",
       "    </tr>\n",
       "  </tbody>\n",
       "</table>\n",
       "</div>"
      ],
      "text/plain": [
       "      key_1      date_2  cont_3  cont_4  disc_5 disc_6      cat_7   cat_8  \\\n",
       "min  AD3812  2000-01-03   -3.22  -31.75       0      0      happy    blue   \n",
       "max  zq5501  2020-12-31    3.32   33.77       5     na  surprised  yellow   \n",
       "\n",
       "     cont_9  cont_10 label  \n",
       "min   -2.99   -35.35  0.99  \n",
       "max    3.00    35.20    na  "
      ]
     },
     "execution_count": 27,
     "metadata": {},
     "output_type": "execute_result"
    }
   ],
   "source": [
    "def minMax(x):\n",
    "    return pd.Series(index=['min','max'], data=[x.min(), x.max()])\n",
    "\n",
    "\n",
    "df.apply(minMax)"
   ]
  },
  {
   "cell_type": "code",
   "execution_count": 21,
   "metadata": {},
   "outputs": [
    {
     "data": {
      "text/plain": [
       "array(['happy', 'surprised', 'scared', 'sad'], dtype=object)"
      ]
     },
     "execution_count": 21,
     "metadata": {},
     "output_type": "execute_result"
    }
   ],
   "source": [
    "df.cat_7.unique()"
   ]
  },
  {
   "cell_type": "code",
   "execution_count": 22,
   "metadata": {},
   "outputs": [
    {
     "data": {
      "text/plain": [
       "array(['blue', 'green', 'purple', 'orange', 'yellow', 'red'], dtype=object)"
      ]
     },
     "execution_count": 22,
     "metadata": {},
     "output_type": "execute_result"
    }
   ],
   "source": [
    "df.cat_8.unique()"
   ]
  },
  {
   "cell_type": "markdown",
   "metadata": {},
   "source": [
    "# Feature description\n",
    "\n",
    "In this problem we don't have enough inforamaion about the business problem, so we need to try to find the most information we could from the dataset. Following there are the supostition about the features of th dataset we found.\n",
    "\n",
    "- key_1: this is the primary key and is alphanumeric\n",
    "- date_2: this is the date of the record.\n",
    "- cont_3: this a continue variable with values in a range of -3.22 and 3.22\n",
    "- cont_4: this a continue variable with values in a range of -31.75 and 33.77\n",
    "- disc_5: this a discrete variable with values in a range of 0 and 5\n",
    "- disc_6: this a discrete variable with values in a range of 0 and 21\n",
    "- cat_7: this a categorical variable with values: 'happy', 'surprised', 'scared', 'sad'\n",
    "- cat_8: this a categorical variable with values: 'blue', 'green', 'purple', 'orange', 'yellow', 'red'\n",
    "- cont_9: this a continue variable with values in a range of -2.99 and 3\n",
    "- cont_10: this a continue variable with values in a range of -35.35 and 35.20\n",
    "- label: this is the indepent variable in our dataset and what we want to predict"
   ]
  },
  {
   "cell_type": "markdown",
   "metadata": {},
   "source": [
    "### Data preparation"
   ]
  },
  {
   "cell_type": "markdown",
   "metadata": {},
   "source": [
    "We need to verify the data types of our features fix it if it isn't correct"
   ]
  },
  {
   "cell_type": "code",
   "execution_count": 28,
   "metadata": {},
   "outputs": [
    {
     "data": {
      "text/plain": [
       "key_1       object\n",
       "date_2      object\n",
       "cont_3     float64\n",
       "cont_4     float64\n",
       "disc_5       int64\n",
       "disc_6      object\n",
       "cat_7       object\n",
       "cat_8       object\n",
       "cont_9     float64\n",
       "cont_10    float64\n",
       "label       object\n",
       "dtype: object"
      ]
     },
     "execution_count": 28,
     "metadata": {},
     "output_type": "execute_result"
    }
   ],
   "source": [
    "df.dtypes"
   ]
  },
  {
   "cell_type": "markdown",
   "metadata": {},
   "source": [
    "date_2, disc_6, and label don't have the correct data type, let's fix this."
   ]
  },
  {
   "cell_type": "code",
   "execution_count": null,
   "metadata": {},
   "outputs": [],
   "source": []
  },
  {
   "cell_type": "markdown",
   "metadata": {},
   "source": [
    "### Data transformation"
   ]
  },
  {
   "cell_type": "markdown",
   "metadata": {},
   "source": [
    "### Model training"
   ]
  },
  {
   "cell_type": "markdown",
   "metadata": {},
   "source": [
    "### Model prediction"
   ]
  },
  {
   "cell_type": "markdown",
   "metadata": {},
   "source": [
    "### Recommendations to the analytics team"
   ]
  },
  {
   "cell_type": "code",
   "execution_count": null,
   "metadata": {},
   "outputs": [],
   "source": []
  }
 ],
 "metadata": {
  "kernelspec": {
   "display_name": "Python 3",
   "language": "python",
   "name": "python3"
  },
  "language_info": {
   "codemirror_mode": {
    "name": "ipython",
    "version": 3
   },
   "file_extension": ".py",
   "mimetype": "text/x-python",
   "name": "python",
   "nbconvert_exporter": "python",
   "pygments_lexer": "ipython3",
   "version": "3.8.5"
  }
 },
 "nbformat": 4,
 "nbformat_minor": 4
}
