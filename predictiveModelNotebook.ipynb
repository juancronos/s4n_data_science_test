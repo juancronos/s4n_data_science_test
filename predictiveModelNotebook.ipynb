{
 "cells": [
  {
   "cell_type": "markdown",
   "metadata": {},
   "source": [
    "![alt text](img\\logo.png \"Title\")\n",
    "<center> <h1> Data Science Technical Test <h1></center>"
   ]
  },
  {
   "cell_type": "markdown",
   "metadata": {},
   "source": [
    "## Instructions\n",
    "This assessment intends to evaluate your technical skills. The task has intentionally been\n",
    "designed to be somewhat open ended to allow you to be propositive.\n",
    "The dataset that must be used for this evaluation is found in the document attached. You\n",
    "must address the requirements described in the deliverable description. You will also have to\n",
    "present your work in a meeting"
   ]
  },
  {
   "cell_type": "markdown",
   "metadata": {},
   "source": [
    "## Data extraction"
   ]
  },
  {
   "cell_type": "code",
   "execution_count": 24,
   "metadata": {},
   "outputs": [
    {
     "name": "stderr",
     "output_type": "stream",
     "text": [
      "Matplotlib is building the font cache; this may take a moment.\n"
     ]
    }
   ],
   "source": [
    "import pandas as pd\n",
    "import numpy as np\n",
    "import matplotlib.pyplot as plt\n",
    "from sklearn.preprocessing import RobustScaler\n",
    "from sklearn.model_selection import train_test_split\n",
    "from sklearn.metrics import mean_squared_error, r2_score\n",
    "import pickle\n",
    "%matplotlib inline"
   ]
  },
  {
   "cell_type": "code",
   "execution_count": 2,
   "metadata": {},
   "outputs": [],
   "source": [
    "df = pd.read_csv('dataset\\Dataset for data_scientist test.txt', delimiter = \",\")"
   ]
  },
  {
   "cell_type": "code",
   "execution_count": 3,
   "metadata": {},
   "outputs": [
    {
     "data": {
      "text/html": [
       "<div>\n",
       "<style scoped>\n",
       "    .dataframe tbody tr th:only-of-type {\n",
       "        vertical-align: middle;\n",
       "    }\n",
       "\n",
       "    .dataframe tbody tr th {\n",
       "        vertical-align: top;\n",
       "    }\n",
       "\n",
       "    .dataframe thead th {\n",
       "        text-align: right;\n",
       "    }\n",
       "</style>\n",
       "<table border=\"1\" class=\"dataframe\">\n",
       "  <thead>\n",
       "    <tr style=\"text-align: right;\">\n",
       "      <th></th>\n",
       "      <th>key_1</th>\n",
       "      <th>date_2</th>\n",
       "      <th>cont_3</th>\n",
       "      <th>cont_4</th>\n",
       "      <th>disc_5</th>\n",
       "      <th>disc_6</th>\n",
       "      <th>cat_7</th>\n",
       "      <th>cat_8</th>\n",
       "      <th>cont_9</th>\n",
       "      <th>cont_10</th>\n",
       "      <th>label</th>\n",
       "    </tr>\n",
       "  </thead>\n",
       "  <tbody>\n",
       "    <tr>\n",
       "      <th>0</th>\n",
       "      <td>na</td>\n",
       "      <td>2003-04-06</td>\n",
       "      <td>-0.90</td>\n",
       "      <td>-3.82</td>\n",
       "      <td>1</td>\n",
       "      <td>19</td>\n",
       "      <td>happy</td>\n",
       "      <td>blue</td>\n",
       "      <td>0.37</td>\n",
       "      <td>3.92</td>\n",
       "      <td>2.5</td>\n",
       "    </tr>\n",
       "    <tr>\n",
       "      <th>1</th>\n",
       "      <td>UV7055</td>\n",
       "      <td>2013-08-22</td>\n",
       "      <td>-0.35</td>\n",
       "      <td>2.23</td>\n",
       "      <td>5</td>\n",
       "      <td>13</td>\n",
       "      <td>surprised</td>\n",
       "      <td>green</td>\n",
       "      <td>0.05</td>\n",
       "      <td>0.60</td>\n",
       "      <td>3.19</td>\n",
       "    </tr>\n",
       "    <tr>\n",
       "      <th>2</th>\n",
       "      <td>oM1806</td>\n",
       "      <td>2002-10-10</td>\n",
       "      <td>0.93</td>\n",
       "      <td>-12.12</td>\n",
       "      <td>2</td>\n",
       "      <td>11</td>\n",
       "      <td>happy</td>\n",
       "      <td>green</td>\n",
       "      <td>0.08</td>\n",
       "      <td>0.75</td>\n",
       "      <td>2.33</td>\n",
       "    </tr>\n",
       "    <tr>\n",
       "      <th>3</th>\n",
       "      <td>YJ8175</td>\n",
       "      <td>2015-01-01</td>\n",
       "      <td>1.23</td>\n",
       "      <td>-7.21</td>\n",
       "      <td>1</td>\n",
       "      <td>14</td>\n",
       "      <td>scared</td>\n",
       "      <td>purple</td>\n",
       "      <td>-0.69</td>\n",
       "      <td>-7.24</td>\n",
       "      <td>2.54</td>\n",
       "    </tr>\n",
       "    <tr>\n",
       "      <th>4</th>\n",
       "      <td>VF7543</td>\n",
       "      <td>2014-03-03</td>\n",
       "      <td>-1.87</td>\n",
       "      <td>-9.02</td>\n",
       "      <td>3</td>\n",
       "      <td>9</td>\n",
       "      <td>happy</td>\n",
       "      <td>blue</td>\n",
       "      <td>1.01</td>\n",
       "      <td>11.16</td>\n",
       "      <td>2.1</td>\n",
       "    </tr>\n",
       "    <tr>\n",
       "      <th>...</th>\n",
       "      <td>...</td>\n",
       "      <td>...</td>\n",
       "      <td>...</td>\n",
       "      <td>...</td>\n",
       "      <td>...</td>\n",
       "      <td>...</td>\n",
       "      <td>...</td>\n",
       "      <td>...</td>\n",
       "      <td>...</td>\n",
       "      <td>...</td>\n",
       "      <td>...</td>\n",
       "    </tr>\n",
       "    <tr>\n",
       "      <th>995</th>\n",
       "      <td>SW6268</td>\n",
       "      <td>2001-11-30</td>\n",
       "      <td>-0.42</td>\n",
       "      <td>-18.36</td>\n",
       "      <td>2</td>\n",
       "      <td>16</td>\n",
       "      <td>scared</td>\n",
       "      <td>orange</td>\n",
       "      <td>2.70</td>\n",
       "      <td>23.41</td>\n",
       "      <td>3.49</td>\n",
       "    </tr>\n",
       "    <tr>\n",
       "      <th>996</th>\n",
       "      <td>QR0417</td>\n",
       "      <td>2010-02-04</td>\n",
       "      <td>-1.85</td>\n",
       "      <td>-8.99</td>\n",
       "      <td>1</td>\n",
       "      <td>9</td>\n",
       "      <td>surprised</td>\n",
       "      <td>green</td>\n",
       "      <td>-1.12</td>\n",
       "      <td>-9.16</td>\n",
       "      <td>1.27</td>\n",
       "    </tr>\n",
       "    <tr>\n",
       "      <th>997</th>\n",
       "      <td>UI7021</td>\n",
       "      <td>2009-05-02</td>\n",
       "      <td>-0.96</td>\n",
       "      <td>-19.40</td>\n",
       "      <td>0</td>\n",
       "      <td>0</td>\n",
       "      <td>surprised</td>\n",
       "      <td>blue</td>\n",
       "      <td>-1.71</td>\n",
       "      <td>-16.33</td>\n",
       "      <td>na</td>\n",
       "    </tr>\n",
       "    <tr>\n",
       "      <th>998</th>\n",
       "      <td>QH8767</td>\n",
       "      <td>2001-02-01</td>\n",
       "      <td>-0.77</td>\n",
       "      <td>2.73</td>\n",
       "      <td>3</td>\n",
       "      <td>19</td>\n",
       "      <td>surprised</td>\n",
       "      <td>orange</td>\n",
       "      <td>2.06</td>\n",
       "      <td>21.55</td>\n",
       "      <td>na</td>\n",
       "    </tr>\n",
       "    <tr>\n",
       "      <th>999</th>\n",
       "      <td>jf4540</td>\n",
       "      <td>2011-06-07</td>\n",
       "      <td>1.02</td>\n",
       "      <td>-9.05</td>\n",
       "      <td>5</td>\n",
       "      <td>13</td>\n",
       "      <td>sad</td>\n",
       "      <td>green</td>\n",
       "      <td>-2.16</td>\n",
       "      <td>-19.52</td>\n",
       "      <td>3.39</td>\n",
       "    </tr>\n",
       "  </tbody>\n",
       "</table>\n",
       "<p>1000 rows × 11 columns</p>\n",
       "</div>"
      ],
      "text/plain": [
       "      key_1      date_2  cont_3  cont_4  disc_5 disc_6      cat_7   cat_8  \\\n",
       "0        na  2003-04-06   -0.90   -3.82       1     19      happy    blue   \n",
       "1    UV7055  2013-08-22   -0.35    2.23       5     13  surprised   green   \n",
       "2    oM1806  2002-10-10    0.93  -12.12       2     11      happy   green   \n",
       "3    YJ8175  2015-01-01    1.23   -7.21       1     14     scared  purple   \n",
       "4    VF7543  2014-03-03   -1.87   -9.02       3      9      happy    blue   \n",
       "..      ...         ...     ...     ...     ...    ...        ...     ...   \n",
       "995  SW6268  2001-11-30   -0.42  -18.36       2     16     scared  orange   \n",
       "996  QR0417  2010-02-04   -1.85   -8.99       1      9  surprised   green   \n",
       "997  UI7021  2009-05-02   -0.96  -19.40       0      0  surprised    blue   \n",
       "998  QH8767  2001-02-01   -0.77    2.73       3     19  surprised  orange   \n",
       "999  jf4540  2011-06-07    1.02   -9.05       5     13        sad   green   \n",
       "\n",
       "     cont_9  cont_10 label  \n",
       "0      0.37     3.92   2.5  \n",
       "1      0.05     0.60  3.19  \n",
       "2      0.08     0.75  2.33  \n",
       "3     -0.69    -7.24  2.54  \n",
       "4      1.01    11.16   2.1  \n",
       "..      ...      ...   ...  \n",
       "995    2.70    23.41  3.49  \n",
       "996   -1.12    -9.16  1.27  \n",
       "997   -1.71   -16.33    na  \n",
       "998    2.06    21.55    na  \n",
       "999   -2.16   -19.52  3.39  \n",
       "\n",
       "[1000 rows x 11 columns]"
      ]
     },
     "execution_count": 3,
     "metadata": {},
     "output_type": "execute_result"
    }
   ],
   "source": [
    "df"
   ]
  },
  {
   "cell_type": "markdown",
   "metadata": {},
   "source": [
    "### Features description"
   ]
  },
  {
   "cell_type": "code",
   "execution_count": 4,
   "metadata": {},
   "outputs": [
    {
     "data": {
      "text/html": [
       "<div>\n",
       "<style scoped>\n",
       "    .dataframe tbody tr th:only-of-type {\n",
       "        vertical-align: middle;\n",
       "    }\n",
       "\n",
       "    .dataframe tbody tr th {\n",
       "        vertical-align: top;\n",
       "    }\n",
       "\n",
       "    .dataframe thead th {\n",
       "        text-align: right;\n",
       "    }\n",
       "</style>\n",
       "<table border=\"1\" class=\"dataframe\">\n",
       "  <thead>\n",
       "    <tr style=\"text-align: right;\">\n",
       "      <th></th>\n",
       "      <th>key_1</th>\n",
       "      <th>date_2</th>\n",
       "      <th>cont_3</th>\n",
       "      <th>cont_4</th>\n",
       "      <th>disc_5</th>\n",
       "      <th>disc_6</th>\n",
       "      <th>cat_7</th>\n",
       "      <th>cat_8</th>\n",
       "      <th>cont_9</th>\n",
       "      <th>cont_10</th>\n",
       "      <th>label</th>\n",
       "    </tr>\n",
       "  </thead>\n",
       "  <tbody>\n",
       "    <tr>\n",
       "      <th>min</th>\n",
       "      <td>AD3812</td>\n",
       "      <td>2000-01-03</td>\n",
       "      <td>-3.22</td>\n",
       "      <td>-31.75</td>\n",
       "      <td>0</td>\n",
       "      <td>0</td>\n",
       "      <td>happy</td>\n",
       "      <td>blue</td>\n",
       "      <td>-2.99</td>\n",
       "      <td>-35.35</td>\n",
       "      <td>0.99</td>\n",
       "    </tr>\n",
       "    <tr>\n",
       "      <th>max</th>\n",
       "      <td>zq5501</td>\n",
       "      <td>2020-12-31</td>\n",
       "      <td>3.32</td>\n",
       "      <td>33.77</td>\n",
       "      <td>5</td>\n",
       "      <td>na</td>\n",
       "      <td>surprised</td>\n",
       "      <td>yellow</td>\n",
       "      <td>3.00</td>\n",
       "      <td>35.20</td>\n",
       "      <td>na</td>\n",
       "    </tr>\n",
       "  </tbody>\n",
       "</table>\n",
       "</div>"
      ],
      "text/plain": [
       "      key_1      date_2  cont_3  cont_4  disc_5 disc_6      cat_7   cat_8  \\\n",
       "min  AD3812  2000-01-03   -3.22  -31.75       0      0      happy    blue   \n",
       "max  zq5501  2020-12-31    3.32   33.77       5     na  surprised  yellow   \n",
       "\n",
       "     cont_9  cont_10 label  \n",
       "min   -2.99   -35.35  0.99  \n",
       "max    3.00    35.20    na  "
      ]
     },
     "execution_count": 4,
     "metadata": {},
     "output_type": "execute_result"
    }
   ],
   "source": [
    "def minMax(x):\n",
    "    return pd.Series(index=['min','max'], data=[x.min(), x.max()])\n",
    "\n",
    "\n",
    "df.apply(minMax)"
   ]
  },
  {
   "cell_type": "code",
   "execution_count": 5,
   "metadata": {},
   "outputs": [
    {
     "data": {
      "text/plain": [
       "array(['happy', 'surprised', 'scared', 'sad'], dtype=object)"
      ]
     },
     "execution_count": 5,
     "metadata": {},
     "output_type": "execute_result"
    }
   ],
   "source": [
    "df.cat_7.unique()"
   ]
  },
  {
   "cell_type": "code",
   "execution_count": 6,
   "metadata": {},
   "outputs": [
    {
     "data": {
      "text/plain": [
       "array(['blue', 'green', 'purple', 'orange', 'yellow', 'red'], dtype=object)"
      ]
     },
     "execution_count": 6,
     "metadata": {},
     "output_type": "execute_result"
    }
   ],
   "source": [
    "df.cat_8.unique()"
   ]
  },
  {
   "cell_type": "markdown",
   "metadata": {},
   "source": [
    "\n",
    "\n",
    "In this problem we don't have enough inforamaion about the business problem, so we need to try to find the most information we could from the dataset. Following there are the supostition about the features of th dataset we found.\n",
    "\n",
    "- key_1: this is the primary key and is alphanumeric\n",
    "- date_2: this is the date of the record.\n",
    "- cont_3: this a continue variable with values in a range of -3.22 and 3.22\n",
    "- cont_4: this a continue variable with values in a range of -31.75 and 33.77\n",
    "- disc_5: this a discrete variable with values in a range of 0 and 5\n",
    "- disc_6: this a discrete variable with values in a range of 0 and 21\n",
    "- cat_7: this a categorical variable with values: 'happy', 'surprised', 'scared', 'sad'\n",
    "- cat_8: this a categorical variable with values: 'blue', 'green', 'purple', 'orange', 'yellow', 'red'\n",
    "- cont_9: this a continue variable with values in a range of -2.99 and 3\n",
    "- cont_10: this a continue variable with values in a range of -35.35 and 35.20\n",
    "- label: this is the indepent variable in our dataset and what we want to predict"
   ]
  },
  {
   "cell_type": "markdown",
   "metadata": {},
   "source": [
    "## Data preparation"
   ]
  },
  {
   "cell_type": "markdown",
   "metadata": {},
   "source": [
    "We need to verify the data types of our features and fix them if they aren't correct"
   ]
  },
  {
   "cell_type": "code",
   "execution_count": 7,
   "metadata": {},
   "outputs": [
    {
     "data": {
      "text/plain": [
       "key_1       object\n",
       "date_2      object\n",
       "cont_3     float64\n",
       "cont_4     float64\n",
       "disc_5       int64\n",
       "disc_6      object\n",
       "cat_7       object\n",
       "cat_8       object\n",
       "cont_9     float64\n",
       "cont_10    float64\n",
       "label       object\n",
       "dtype: object"
      ]
     },
     "execution_count": 7,
     "metadata": {},
     "output_type": "execute_result"
    }
   ],
   "source": [
    "df.dtypes"
   ]
  },
  {
   "cell_type": "markdown",
   "metadata": {},
   "source": [
    "date_2, disc_6, and label don't have the correct data type, let's fix this."
   ]
  },
  {
   "cell_type": "code",
   "execution_count": 8,
   "metadata": {},
   "outputs": [
    {
     "name": "stderr",
     "output_type": "stream",
     "text": [
      "<ipython-input-8-87b8775dbb93>:6: SettingWithCopyWarning: \n",
      "A value is trying to be set on a copy of a slice from a DataFrame.\n",
      "Try using .loc[row_indexer,col_indexer] = value instead\n",
      "\n",
      "See the caveats in the documentation: https://pandas.pydata.org/pandas-docs/stable/user_guide/indexing.html#returning-a-view-versus-a-copy\n",
      "  df['disc_6'] = df['disc_6'].astype('int')\n",
      "<ipython-input-8-87b8775dbb93>:7: SettingWithCopyWarning: \n",
      "A value is trying to be set on a copy of a slice from a DataFrame.\n",
      "Try using .loc[row_indexer,col_indexer] = value instead\n",
      "\n",
      "See the caveats in the documentation: https://pandas.pydata.org/pandas-docs/stable/user_guide/indexing.html#returning-a-view-versus-a-copy\n",
      "  df['label'] = pd.to_numeric(df['label'], errors='coerce')\n"
     ]
    },
    {
     "data": {
      "text/plain": [
       "key_1              object\n",
       "date_2     datetime64[ns]\n",
       "cont_3            float64\n",
       "cont_4            float64\n",
       "disc_5              int64\n",
       "disc_6              int32\n",
       "cat_7              object\n",
       "cat_8              object\n",
       "cont_9            float64\n",
       "cont_10           float64\n",
       "label             float64\n",
       "dtype: object"
      ]
     },
     "execution_count": 8,
     "metadata": {},
     "output_type": "execute_result"
    }
   ],
   "source": [
    "#converting to correct data type\n",
    "df['date_2'] = df['date_2'].astype('datetime64[ns]')\n",
    "df['disc_6'] = pd.to_numeric(df['disc_6'], errors='coerce')\n",
    "#we can't convert to int if we have NAN values, so we need to drop them\n",
    "df = df.dropna(subset=['disc_6'])\n",
    "df['disc_6'] = df['disc_6'].astype('int')\n",
    "df['label'] = pd.to_numeric(df['label'], errors='coerce')\n",
    "df = df.dropna(subset=['label'])\n",
    "df.dtypes"
   ]
  },
  {
   "cell_type": "markdown",
   "metadata": {},
   "source": [
    "Check for NaN in the DataFrame:"
   ]
  },
  {
   "cell_type": "code",
   "execution_count": 9,
   "metadata": {},
   "outputs": [
    {
     "data": {
      "text/plain": [
       "False"
      ]
     },
     "execution_count": 9,
     "metadata": {},
     "output_type": "execute_result"
    }
   ],
   "source": [
    "df.isnull().values.any()"
   ]
  },
  {
   "cell_type": "markdown",
   "metadata": {},
   "source": [
    "## Data transformation"
   ]
  },
  {
   "cell_type": "markdown",
   "metadata": {},
   "source": [
    "Since computers are unable to process categorical data as these categories have no meaning for them, this information has to be prepared if we want a computer to be able to process it. We are going to use One-Hot Encoding."
   ]
  },
  {
   "cell_type": "markdown",
   "metadata": {},
   "source": [
    "One-Hot Encoding for cat_7"
   ]
  },
  {
   "cell_type": "code",
   "execution_count": 10,
   "metadata": {},
   "outputs": [],
   "source": [
    "# Get one hot encoding of columns cat_7\n",
    "one_hot = pd.get_dummies(df['cat_7'])\n",
    "# Drop column cat_7 as it is now encoded\n",
    "df = df.drop('cat_7',axis = 1)\n",
    "# Join the encoded df\n",
    "df = df.join(one_hot)"
   ]
  },
  {
   "cell_type": "markdown",
   "metadata": {},
   "source": [
    "One-Hot Encoding for cat_8"
   ]
  },
  {
   "cell_type": "code",
   "execution_count": 11,
   "metadata": {},
   "outputs": [
    {
     "data": {
      "text/html": [
       "<div>\n",
       "<style scoped>\n",
       "    .dataframe tbody tr th:only-of-type {\n",
       "        vertical-align: middle;\n",
       "    }\n",
       "\n",
       "    .dataframe tbody tr th {\n",
       "        vertical-align: top;\n",
       "    }\n",
       "\n",
       "    .dataframe thead th {\n",
       "        text-align: right;\n",
       "    }\n",
       "</style>\n",
       "<table border=\"1\" class=\"dataframe\">\n",
       "  <thead>\n",
       "    <tr style=\"text-align: right;\">\n",
       "      <th></th>\n",
       "      <th>key_1</th>\n",
       "      <th>date_2</th>\n",
       "      <th>cont_3</th>\n",
       "      <th>cont_4</th>\n",
       "      <th>disc_5</th>\n",
       "      <th>disc_6</th>\n",
       "      <th>cont_9</th>\n",
       "      <th>cont_10</th>\n",
       "      <th>label</th>\n",
       "      <th>happy</th>\n",
       "      <th>sad</th>\n",
       "      <th>scared</th>\n",
       "      <th>surprised</th>\n",
       "      <th>blue</th>\n",
       "      <th>green</th>\n",
       "      <th>orange</th>\n",
       "      <th>purple</th>\n",
       "      <th>red</th>\n",
       "      <th>yellow</th>\n",
       "    </tr>\n",
       "  </thead>\n",
       "  <tbody>\n",
       "    <tr>\n",
       "      <th>0</th>\n",
       "      <td>na</td>\n",
       "      <td>2003-04-06</td>\n",
       "      <td>-0.90</td>\n",
       "      <td>-3.82</td>\n",
       "      <td>1</td>\n",
       "      <td>19</td>\n",
       "      <td>0.37</td>\n",
       "      <td>3.92</td>\n",
       "      <td>2.50</td>\n",
       "      <td>1</td>\n",
       "      <td>0</td>\n",
       "      <td>0</td>\n",
       "      <td>0</td>\n",
       "      <td>1</td>\n",
       "      <td>0</td>\n",
       "      <td>0</td>\n",
       "      <td>0</td>\n",
       "      <td>0</td>\n",
       "      <td>0</td>\n",
       "    </tr>\n",
       "    <tr>\n",
       "      <th>1</th>\n",
       "      <td>UV7055</td>\n",
       "      <td>2013-08-22</td>\n",
       "      <td>-0.35</td>\n",
       "      <td>2.23</td>\n",
       "      <td>5</td>\n",
       "      <td>13</td>\n",
       "      <td>0.05</td>\n",
       "      <td>0.60</td>\n",
       "      <td>3.19</td>\n",
       "      <td>0</td>\n",
       "      <td>0</td>\n",
       "      <td>0</td>\n",
       "      <td>1</td>\n",
       "      <td>0</td>\n",
       "      <td>1</td>\n",
       "      <td>0</td>\n",
       "      <td>0</td>\n",
       "      <td>0</td>\n",
       "      <td>0</td>\n",
       "    </tr>\n",
       "    <tr>\n",
       "      <th>2</th>\n",
       "      <td>oM1806</td>\n",
       "      <td>2002-10-10</td>\n",
       "      <td>0.93</td>\n",
       "      <td>-12.12</td>\n",
       "      <td>2</td>\n",
       "      <td>11</td>\n",
       "      <td>0.08</td>\n",
       "      <td>0.75</td>\n",
       "      <td>2.33</td>\n",
       "      <td>1</td>\n",
       "      <td>0</td>\n",
       "      <td>0</td>\n",
       "      <td>0</td>\n",
       "      <td>0</td>\n",
       "      <td>1</td>\n",
       "      <td>0</td>\n",
       "      <td>0</td>\n",
       "      <td>0</td>\n",
       "      <td>0</td>\n",
       "    </tr>\n",
       "    <tr>\n",
       "      <th>3</th>\n",
       "      <td>YJ8175</td>\n",
       "      <td>2015-01-01</td>\n",
       "      <td>1.23</td>\n",
       "      <td>-7.21</td>\n",
       "      <td>1</td>\n",
       "      <td>14</td>\n",
       "      <td>-0.69</td>\n",
       "      <td>-7.24</td>\n",
       "      <td>2.54</td>\n",
       "      <td>0</td>\n",
       "      <td>0</td>\n",
       "      <td>1</td>\n",
       "      <td>0</td>\n",
       "      <td>0</td>\n",
       "      <td>0</td>\n",
       "      <td>0</td>\n",
       "      <td>1</td>\n",
       "      <td>0</td>\n",
       "      <td>0</td>\n",
       "    </tr>\n",
       "    <tr>\n",
       "      <th>4</th>\n",
       "      <td>VF7543</td>\n",
       "      <td>2014-03-03</td>\n",
       "      <td>-1.87</td>\n",
       "      <td>-9.02</td>\n",
       "      <td>3</td>\n",
       "      <td>9</td>\n",
       "      <td>1.01</td>\n",
       "      <td>11.16</td>\n",
       "      <td>2.10</td>\n",
       "      <td>1</td>\n",
       "      <td>0</td>\n",
       "      <td>0</td>\n",
       "      <td>0</td>\n",
       "      <td>1</td>\n",
       "      <td>0</td>\n",
       "      <td>0</td>\n",
       "      <td>0</td>\n",
       "      <td>0</td>\n",
       "      <td>0</td>\n",
       "    </tr>\n",
       "  </tbody>\n",
       "</table>\n",
       "</div>"
      ],
      "text/plain": [
       "    key_1     date_2  cont_3  cont_4  disc_5  disc_6  cont_9  cont_10  label  \\\n",
       "0      na 2003-04-06   -0.90   -3.82       1      19    0.37     3.92   2.50   \n",
       "1  UV7055 2013-08-22   -0.35    2.23       5      13    0.05     0.60   3.19   \n",
       "2  oM1806 2002-10-10    0.93  -12.12       2      11    0.08     0.75   2.33   \n",
       "3  YJ8175 2015-01-01    1.23   -7.21       1      14   -0.69    -7.24   2.54   \n",
       "4  VF7543 2014-03-03   -1.87   -9.02       3       9    1.01    11.16   2.10   \n",
       "\n",
       "   happy  sad  scared  surprised  blue  green  orange  purple  red  yellow  \n",
       "0      1    0       0          0     1      0       0       0    0       0  \n",
       "1      0    0       0          1     0      1       0       0    0       0  \n",
       "2      1    0       0          0     0      1       0       0    0       0  \n",
       "3      0    0       1          0     0      0       0       1    0       0  \n",
       "4      1    0       0          0     1      0       0       0    0       0  "
      ]
     },
     "execution_count": 11,
     "metadata": {},
     "output_type": "execute_result"
    }
   ],
   "source": [
    "# Get one hot encoding of columns cat_8\n",
    "one_hot = pd.get_dummies(df['cat_8'])\n",
    "# Drop column cat_8 as it is now encoded\n",
    "df = df.drop('cat_8',axis = 1)\n",
    "# Join the encoded df\n",
    "df = df.join(one_hot)\n",
    "df.head()"
   ]
  },
  {
   "cell_type": "markdown",
   "metadata": {},
   "source": [
    "#### Robust Scaling\n",
    "It is common to scale data prior to fitting a machine learning model this is because many machine learning algorithms perform better when numerical input variables are scaled to a standard range. "
   ]
  },
  {
   "cell_type": "code",
   "execution_count": 12,
   "metadata": {},
   "outputs": [],
   "source": [
    "#instanstiate the robust scaler\n",
    "robust_scaler = RobustScaler()\n",
    "\n",
    "#Create a datframe from the dependent variables, we drop key_1 and date_2 because they don't add information in these case\n",
    "X = df.drop(['key_1', 'date_2', 'label'], axis=1)\n",
    "\n",
    "# perform a robust scaler transform of the dataset\n",
    "X = robust_scaler.fit_transform(X)"
   ]
  },
  {
   "cell_type": "markdown",
   "metadata": {},
   "source": [
    "#### Create the dataframes for train and test"
   ]
  },
  {
   "cell_type": "code",
   "execution_count": 13,
   "metadata": {},
   "outputs": [],
   "source": [
    "y = df['label']\n",
    "X_train, X_test, y_train, y_test = train_test_split(X, y, test_size=0.15, random_state=123)"
   ]
  },
  {
   "cell_type": "markdown",
   "metadata": {},
   "source": [
    "#### Preparing a dataframe for model analysis"
   ]
  },
  {
   "cell_type": "code",
   "execution_count": 14,
   "metadata": {},
   "outputs": [],
   "source": [
    "#Data frame for evaluation metrics\n",
    "metrics = pd.DataFrame(index=['R2', 'MSE'],\n",
    "                      columns=['LinearRegression', 'ClassTree', 'RandomForest', 'GradientBoosting','NeuralNetwork'])"
   ]
  },
  {
   "cell_type": "markdown",
   "metadata": {},
   "source": [
    "## Model training"
   ]
  },
  {
   "cell_type": "markdown",
   "metadata": {},
   "source": [
    "### A. Linear Regression"
   ]
  },
  {
   "cell_type": "code",
   "execution_count": 15,
   "metadata": {},
   "outputs": [],
   "source": [
    "# 1. import the predicitive model\n",
    "from sklearn import linear_model\n",
    "\n",
    "# 2. create instace of the model\n",
    "regr = linear_model.LinearRegression()\n",
    "\n",
    "# 3. use the trainning data to train the model\n",
    "regr.fit(X_train, y_train)\n",
    "\n",
    "# 4. evaluate the model\n",
    "y_pred_test = regr.predict(X_test)\n",
    "metrics.loc['MSE', 'LinearRegression'] = mean_squared_error(y_test, y_pred_test)\n",
    "metrics.loc['R2', 'LinearRegression'] = r2_score(y_test, y_pred_test)"
   ]
  },
  {
   "cell_type": "markdown",
   "metadata": {},
   "source": [
    "### B. Classification Tree"
   ]
  },
  {
   "cell_type": "code",
   "execution_count": 16,
   "metadata": {},
   "outputs": [],
   "source": [
    "# 1. import the regressor\n",
    "from sklearn.tree import DecisionTreeRegressor \n",
    "\n",
    "# 2. create instace of the regressor object\n",
    "treeRegressor = DecisionTreeRegressor(random_state = 0) \n",
    "\n",
    "# 3. use the trainning data to train the model\n",
    "treeRegressor.fit(X_train, y_train)\n",
    "\n",
    "# 4. evaluate the model\n",
    "y_pred_test = treeRegressor.predict(X_test)\n",
    "metrics.loc['MSE', 'ClassTree'] = mean_squared_error(y_test, y_pred_test)\n",
    "metrics.loc['R2', 'ClassTree'] = r2_score(y_test, y_pred_test)"
   ]
  },
  {
   "cell_type": "markdown",
   "metadata": {},
   "source": [
    "### C. Random Forest"
   ]
  },
  {
   "cell_type": "code",
   "execution_count": 17,
   "metadata": {},
   "outputs": [],
   "source": [
    "# 1. import the regressor\n",
    "from sklearn.ensemble import RandomForestRegressor\n",
    "\n",
    "# 2. instantiate model with 1000 decision trees\n",
    "rf = RandomForestRegressor(n_estimators = 100, random_state = 42)\n",
    "\n",
    "# 3. use the trainning data to train the model\n",
    "rf.fit(X_train, y_train)\n",
    "\n",
    "# 4. evaluate the model\n",
    "y_pred_test = rf.predict(X_test)\n",
    "metrics.loc['MSE', 'RandomForest'] = mean_squared_error(y_test, y_pred_test)\n",
    "metrics.loc['R2', 'RandomForest'] = r2_score(y_test, y_pred_test)"
   ]
  },
  {
   "cell_type": "markdown",
   "metadata": {},
   "source": [
    "### D. Gradient Boosting regression"
   ]
  },
  {
   "cell_type": "code",
   "execution_count": 18,
   "metadata": {},
   "outputs": [],
   "source": [
    "# 1. import the regressor\n",
    "from sklearn.ensemble import GradientBoostingRegressor\n",
    "\n",
    "# 2. instantiate model with 1000 decision trees\n",
    "gbReg = GradientBoostingRegressor(n_estimators= 500,\n",
    "                                max_depth= 4,\n",
    "                                min_samples_split= 5,\n",
    "                                learning_rate= 0.01,\n",
    "                                loss= 'ls',\n",
    "                                random_state=0)\n",
    "\n",
    "# 3. use the trainning data to train the model\n",
    "gbReg.fit(X_train, y_train)\n",
    "\n",
    "# 4. evaluate the model\n",
    "y_pred_test = gbReg.predict(X_test)\n",
    "metrics.loc['MSE', 'GradientBoosting'] = mean_squared_error(y_test, y_pred_test)\n",
    "metrics.loc['R2', 'GradientBoosting'] = r2_score(y_test, y_pred_test)"
   ]
  },
  {
   "cell_type": "markdown",
   "metadata": {},
   "source": [
    "### E. Neural Network"
   ]
  },
  {
   "cell_type": "code",
   "execution_count": 19,
   "metadata": {},
   "outputs": [],
   "source": [
    "# 1. import the regressor\n",
    "from sklearn.neural_network import MLPRegressor\n",
    "\n",
    "# 2. create instace of the regressor\n",
    "mlp = MLPRegressor(solver='lbfgs', \n",
    "                   hidden_layer_sizes=50, \n",
    "                   max_iter=1000, \n",
    "                   learning_rate='constant', \n",
    "                   random_state=42)\n",
    "\n",
    "# 3. use the trainning data to train the model\n",
    "mlp.fit(X_train, y_train)\n",
    "\n",
    "# 4. evaluate the model\n",
    "y_pred_test = mlp.predict(X_test)\n",
    "metrics.loc['MSE', 'NeuralNetwork'] = mean_squared_error(y_test, y_pred_test)\n",
    "metrics.loc['R2', 'NeuralNetwork'] = r2_score(y_test, y_pred_test)"
   ]
  },
  {
   "cell_type": "code",
   "execution_count": 20,
   "metadata": {},
   "outputs": [
    {
     "data": {
      "text/html": [
       "<div>\n",
       "<style scoped>\n",
       "    .dataframe tbody tr th:only-of-type {\n",
       "        vertical-align: middle;\n",
       "    }\n",
       "\n",
       "    .dataframe tbody tr th {\n",
       "        vertical-align: top;\n",
       "    }\n",
       "\n",
       "    .dataframe thead th {\n",
       "        text-align: right;\n",
       "    }\n",
       "</style>\n",
       "<table border=\"1\" class=\"dataframe\">\n",
       "  <thead>\n",
       "    <tr style=\"text-align: right;\">\n",
       "      <th></th>\n",
       "      <th>LinearRegression</th>\n",
       "      <th>ClassTree</th>\n",
       "      <th>RandomForest</th>\n",
       "      <th>GradientBoosting</th>\n",
       "      <th>NeuralNetwork</th>\n",
       "    </tr>\n",
       "  </thead>\n",
       "  <tbody>\n",
       "    <tr>\n",
       "      <th>R2</th>\n",
       "      <td>0.827165</td>\n",
       "      <td>0.773129</td>\n",
       "      <td>0.905996</td>\n",
       "      <td>0.937187</td>\n",
       "      <td>0.93969</td>\n",
       "    </tr>\n",
       "    <tr>\n",
       "      <th>MSE</th>\n",
       "      <td>0.111426</td>\n",
       "      <td>0.146264</td>\n",
       "      <td>0.0606046</td>\n",
       "      <td>0.0404953</td>\n",
       "      <td>0.0388816</td>\n",
       "    </tr>\n",
       "  </tbody>\n",
       "</table>\n",
       "</div>"
      ],
      "text/plain": [
       "    LinearRegression ClassTree RandomForest GradientBoosting NeuralNetwork\n",
       "R2          0.827165  0.773129     0.905996         0.937187       0.93969\n",
       "MSE         0.111426  0.146264    0.0606046        0.0404953     0.0388816"
      ]
     },
     "execution_count": 20,
     "metadata": {},
     "output_type": "execute_result"
    }
   ],
   "source": [
    "metrics"
   ]
  },
  {
   "cell_type": "code",
   "execution_count": 30,
   "metadata": {},
   "outputs": [
    {
     "data": {
      "image/png": "[encoded data removed]",
      "text/plain": [
       "<Figure size 432x288 with 1 Axes>"
      ]
     },
     "metadata": {
      "needs_background": "light"
     },
     "output_type": "display_data"
    }
   ],
   "source": [
    "fig, ax = plt.subplots()\n",
    "metrics.plot(kind='barh', ax = ax)\n",
    "ax.grid()"
   ]
  },
  {
   "cell_type": "markdown",
   "metadata": {},
   "source": [
    "## Model prediction"
   ]
  },
  {
   "cell_type": "markdown",
   "metadata": {},
   "source": [
    "### Save the model to disk"
   ]
  },
  {
   "cell_type": "code",
   "execution_count": 21,
   "metadata": {},
   "outputs": [],
   "source": [
    "filename = 'finalized_model.sav'\n",
    "model = gbReg\n",
    "pickle.dump(model, open(filename, 'wb'))"
   ]
  },
  {
   "cell_type": "markdown",
   "metadata": {},
   "source": [
    "### load the model and use it to make predictions"
   ]
  },
  {
   "cell_type": "code",
   "execution_count": 22,
   "metadata": {},
   "outputs": [],
   "source": [
    "# load the model from disk\n",
    "loaded_model = pickle.load(open(filename, 'rb'))\n",
    "\n",
    "#Create a functon to make individual pedictions\n",
    "def make_ind_predition(new_data):\n",
    "    data = new_data\n",
    "    \n",
    "    cat_7_dict = {'happy': 0, 'surprised': 1, 'scared': 2, 'sad': 3}    \n",
    "    cat_7 = pd.get_dummies(pd.Series(['happy', 'surprised', 'scared', 'sad']))\n",
    "    cat_7_dummies = cat_7.iloc[cat_7_dict[new_data['cat_7']]]\n",
    "    \n",
    "    cat_8_dict = {'blue':0, 'green':1, 'purple':2, 'orange':3, 'yellow':4, 'red':5}\n",
    "    cat_8 = pd.get_dummies(pd.Series(['blue', 'green', 'purple', 'orange', 'yellow', 'red']))\n",
    "    cat_8_dummies = cat_8.iloc[cat_8_dict[new_data['cat_8']]]\n",
    "        \n",
    "    data = pd.concat([data, cat_7_dummies, cat_8_dummies])\n",
    "    data = data.drop(['cat_7', 'cat_8'])    \n",
    "    \n",
    "    data = data.values.reshape(1, -1)\n",
    "    data = robust_scaler.transform(data)\n",
    "    prediction = loaded_model.predict(data)\n",
    "    return prediction"
   ]
  },
  {
   "cell_type": "code",
   "execution_count": 23,
   "metadata": {},
   "outputs": [
    {
     "data": {
      "text/plain": [
       "array([2.5480003])"
      ]
     },
     "execution_count": 23,
     "metadata": {},
     "output_type": "execute_result"
    }
   ],
   "source": [
    "#the result should be close to 2.62\n",
    "from collections import OrderedDict\n",
    "new_record = OrderedDict([('cont_3', -0.71),('cont_4', -7.57),\n",
    "                          ('disc_5', 5),('disc_6', 6),\n",
    "                          ('cat_7', 'happy'),('cat_8', 'green'),\n",
    "                          ('cont_9', -0.15),('cont_10', -1.5)])\n",
    "\n",
    "record = pd.Series(new_record)\n",
    "make_ind_predition(record)"
   ]
  },
  {
   "cell_type": "markdown",
   "metadata": {},
   "source": [
    "## Recommendations to the analytics team"
   ]
  },
  {
   "cell_type": "code",
   "execution_count": null,
   "metadata": {},
   "outputs": [],
   "source": []
  }
 ],
 "metadata": {
  "kernelspec": {
   "display_name": "Python 3",
   "language": "python",
   "name": "python3"
  },
  "language_info": {
   "codemirror_mode": {
    "name": "ipython",
    "version": 3
   },
   "file_extension": ".py",
   "mimetype": "text/x-python",
   "name": "python",
   "nbconvert_exporter": "python",
   "pygments_lexer": "ipython3",
   "version": "3.8.5"
  }
 },
 "nbformat": 4,
 "nbformat_minor": 4
}
